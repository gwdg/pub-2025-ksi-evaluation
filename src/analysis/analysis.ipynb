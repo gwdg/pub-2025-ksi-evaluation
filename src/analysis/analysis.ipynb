{
 "cells": [
  {
   "cell_type": "markdown",
   "source": [
    "# Analyze Benchmark Results\n",
    "Extract details from the benchmark results such as:\n",
    "- Mean\n",
    "- Std\n",
    "- difference of mean between projects (in %)\n",
    "\n",
    "These details are relevant for the discussion of the benchmark results in the thesis."
   ],
   "metadata": {
    "collapsed": false
   },
   "id": "6978fb6db4dfe4d8"
  },
  {
   "cell_type": "code",
   "execution_count": 69,
   "id": "initial_id",
   "metadata": {
    "collapsed": true,
    "ExecuteTime": {
     "end_time": "2023-12-02T15:27:46.184316141Z",
     "start_time": "2023-12-02T15:27:46.044503646Z"
    }
   },
   "outputs": [],
   "source": [
    "import os\n",
    "import numpy as np\n",
    "import pandas as pd"
   ]
  },
  {
   "cell_type": "code",
   "execution_count": 70,
   "outputs": [],
   "source": [
    "def read_bench_csv(benchmark: str) -> pd.DataFrame:\n",
    "    # If script is executed from plot directory, change to content root directory\n",
    "    if os.path.split(os.getcwd())[-1] == \"analysis\":\n",
    "        os.chdir(\"../..\")\n",
    "\n",
    "    # Read data\n",
    "    data_dir = f\"data/{benchmark}\"\n",
    "    project_dirs = [os.path.join(data_dir, p) for p in [\"slurm\", \"bridge-operator\", \"hpk\", \"ksi\"]]\n",
    "\n",
    "    # Find file with the highest number\n",
    "    benchmark_files = [os.path.join(d, max(os.listdir(d))) for d in project_dirs if os.path.exists(d)]\n",
    "    print(f\"Detected benchmark files: {benchmark_files}\")\n",
    "\n",
    "    df = pd.concat([pd.read_csv(p, sep=\";\") for p in benchmark_files])\n",
    "    #print(df)\n",
    "    return df\n",
    "\n",
    "def analyze(df: pd.DataFrame, column: str) -> pd.DataFrame:\n",
    "    mean = df.groupby(['project'])[column].mean().reset_index()\n",
    "    # print(mean)\n",
    "    result = pd.DataFrame(mean)\n",
    "    std = df.groupby(['project'])[column].std().reset_index()\n",
    "    # print(std)\n",
    "    result[\"std\"] = std[column]\n",
    "\n",
    "    # Calc relative performance difference\n",
    "    bare_metal_perf = result.loc[result['project'] == \"slurm\"][column].iloc[0]\n",
    "\n",
    "    result[\"difference\"] = (result[column] - bare_metal_perf) / bare_metal_perf * 100\n",
    "\n",
    "    # print(mean)\n",
    "    return result"
   ],
   "metadata": {
    "collapsed": false,
    "ExecuteTime": {
     "end_time": "2023-12-02T15:27:46.187581364Z",
     "start_time": "2023-12-02T15:27:46.087664841Z"
    }
   },
   "id": "df83bad7f4a263f0"
  },
  {
   "cell_type": "code",
   "execution_count": 71,
   "outputs": [
    {
     "name": "stdout",
     "output_type": "stream",
     "text": [
      "Detected benchmark files: ['data/startup-time/slurm/006.csv', 'data/startup-time/bridge-operator/001.csv', 'data/startup-time/hpk/003.csv', 'data/startup-time/ksi/001.csv']\n"
     ]
    },
    {
     "data": {
      "text/plain": "           project   millis          std    difference\n0  bridge-operator   2725.2   273.006227   2364.014467\n1              hpk   2497.0   571.270708   2157.685353\n2              ksi  53920.6  4988.988368  48652.802893\n3            slurm    110.6     9.890512      0.000000",
      "text/html": "<div>\n<style scoped>\n    .dataframe tbody tr th:only-of-type {\n        vertical-align: middle;\n    }\n\n    .dataframe tbody tr th {\n        vertical-align: top;\n    }\n\n    .dataframe thead th {\n        text-align: right;\n    }\n</style>\n<table border=\"1\" class=\"dataframe\">\n  <thead>\n    <tr style=\"text-align: right;\">\n      <th></th>\n      <th>project</th>\n      <th>millis</th>\n      <th>std</th>\n      <th>difference</th>\n    </tr>\n  </thead>\n  <tbody>\n    <tr>\n      <th>0</th>\n      <td>bridge-operator</td>\n      <td>2725.2</td>\n      <td>273.006227</td>\n      <td>2364.014467</td>\n    </tr>\n    <tr>\n      <th>1</th>\n      <td>hpk</td>\n      <td>2497.0</td>\n      <td>571.270708</td>\n      <td>2157.685353</td>\n    </tr>\n    <tr>\n      <th>2</th>\n      <td>ksi</td>\n      <td>53920.6</td>\n      <td>4988.988368</td>\n      <td>48652.802893</td>\n    </tr>\n    <tr>\n      <th>3</th>\n      <td>slurm</td>\n      <td>110.6</td>\n      <td>9.890512</td>\n      <td>0.000000</td>\n    </tr>\n  </tbody>\n</table>\n</div>"
     },
     "execution_count": 71,
     "metadata": {},
     "output_type": "execute_result"
    }
   ],
   "source": [
    "df = read_bench_csv(\"startup-time\")\n",
    "analyze(df, \"millis\")"
   ],
   "metadata": {
    "collapsed": false,
    "ExecuteTime": {
     "end_time": "2023-12-02T15:27:46.211162463Z",
     "start_time": "2023-12-02T15:27:46.087982270Z"
    }
   },
   "id": "62c7a98b492e31d9"
  },
  {
   "cell_type": "code",
   "execution_count": 72,
   "outputs": [
    {
     "name": "stdout",
     "output_type": "stream",
     "text": [
      "Detected benchmark files: ['data/sysbench-cpu/slurm/004.csv', 'data/sysbench-cpu/bridge-operator/003.csv', 'data/sysbench-cpu/hpk/002.csv', 'data/sysbench-cpu/ksi/008.csv']\n"
     ]
    },
    {
     "data": {
      "text/plain": "           project      score        std  difference\n0  bridge-operator  15100.646   7.896046    0.014246\n1              hpk  14680.162  17.281713   -2.770693\n2              ksi  14578.438   7.702918   -3.444429\n3            slurm  15098.495   5.047207    0.000000",
      "text/html": "<div>\n<style scoped>\n    .dataframe tbody tr th:only-of-type {\n        vertical-align: middle;\n    }\n\n    .dataframe tbody tr th {\n        vertical-align: top;\n    }\n\n    .dataframe thead th {\n        text-align: right;\n    }\n</style>\n<table border=\"1\" class=\"dataframe\">\n  <thead>\n    <tr style=\"text-align: right;\">\n      <th></th>\n      <th>project</th>\n      <th>score</th>\n      <th>std</th>\n      <th>difference</th>\n    </tr>\n  </thead>\n  <tbody>\n    <tr>\n      <th>0</th>\n      <td>bridge-operator</td>\n      <td>15100.646</td>\n      <td>7.896046</td>\n      <td>0.014246</td>\n    </tr>\n    <tr>\n      <th>1</th>\n      <td>hpk</td>\n      <td>14680.162</td>\n      <td>17.281713</td>\n      <td>-2.770693</td>\n    </tr>\n    <tr>\n      <th>2</th>\n      <td>ksi</td>\n      <td>14578.438</td>\n      <td>7.702918</td>\n      <td>-3.444429</td>\n    </tr>\n    <tr>\n      <th>3</th>\n      <td>slurm</td>\n      <td>15098.495</td>\n      <td>5.047207</td>\n      <td>0.000000</td>\n    </tr>\n  </tbody>\n</table>\n</div>"
     },
     "execution_count": 72,
     "metadata": {},
     "output_type": "execute_result"
    }
   ],
   "source": [
    "df = read_bench_csv(\"sysbench-cpu\")\n",
    "analyze(df, \"score\")"
   ],
   "metadata": {
    "collapsed": false,
    "ExecuteTime": {
     "end_time": "2023-12-02T15:27:46.214934455Z",
     "start_time": "2023-12-02T15:27:46.095140591Z"
    }
   },
   "id": "7db4ca81c00ebcf6"
  },
  {
   "cell_type": "code",
   "execution_count": 73,
   "outputs": [
    {
     "name": "stdout",
     "output_type": "stream",
     "text": [
      "Detected benchmark files: ['data/stream-memory/slurm/003.csv', 'data/stream-memory/bridge-operator/002.csv', 'data/stream-memory/hpk/000.csv', 'data/stream-memory/ksi/001.csv']\n"
     ]
    },
    {
     "data": {
      "text/plain": "           project       score         std  difference\n0  bridge-operator  70582.5475  112.527925   -0.099129\n1              hpk  70626.8975  224.873759   -0.036357\n2              ksi  70277.2875  201.864257   -0.531187\n3            slurm  70652.5850  199.723832    0.000000",
      "text/html": "<div>\n<style scoped>\n    .dataframe tbody tr th:only-of-type {\n        vertical-align: middle;\n    }\n\n    .dataframe tbody tr th {\n        vertical-align: top;\n    }\n\n    .dataframe thead th {\n        text-align: right;\n    }\n</style>\n<table border=\"1\" class=\"dataframe\">\n  <thead>\n    <tr style=\"text-align: right;\">\n      <th></th>\n      <th>project</th>\n      <th>score</th>\n      <th>std</th>\n      <th>difference</th>\n    </tr>\n  </thead>\n  <tbody>\n    <tr>\n      <th>0</th>\n      <td>bridge-operator</td>\n      <td>70582.5475</td>\n      <td>112.527925</td>\n      <td>-0.099129</td>\n    </tr>\n    <tr>\n      <th>1</th>\n      <td>hpk</td>\n      <td>70626.8975</td>\n      <td>224.873759</td>\n      <td>-0.036357</td>\n    </tr>\n    <tr>\n      <th>2</th>\n      <td>ksi</td>\n      <td>70277.2875</td>\n      <td>201.864257</td>\n      <td>-0.531187</td>\n    </tr>\n    <tr>\n      <th>3</th>\n      <td>slurm</td>\n      <td>70652.5850</td>\n      <td>199.723832</td>\n      <td>0.000000</td>\n    </tr>\n  </tbody>\n</table>\n</div>"
     },
     "execution_count": 73,
     "metadata": {},
     "output_type": "execute_result"
    }
   ],
   "source": [
    "df = read_bench_csv(\"stream-memory\")\n",
    "df['score'] = df[['copy', 'scale', 'add', 'triad']].mean(axis=1)\n",
    "analyze(df, \"score\")"
   ],
   "metadata": {
    "collapsed": false,
    "ExecuteTime": {
     "end_time": "2023-12-02T15:27:46.241746346Z",
     "start_time": "2023-12-02T15:27:46.135908253Z"
    }
   },
   "id": "ff76353dcff94e15"
  },
  {
   "cell_type": "code",
   "execution_count": 74,
   "outputs": [
    {
     "name": "stdout",
     "output_type": "stream",
     "text": [
      "Detected benchmark files: ['data/fio-diskseq/slurm/002.csv', 'data/fio-diskseq/bridge-operator/001.csv', 'data/fio-diskseq/hpk/003.csv', 'data/fio-diskseq/ksi/000.csv']\n"
     ]
    },
    {
     "data": {
      "text/plain": "           project  readthroughput        std  difference\n0  bridge-operator      384.722363  32.114950   -0.388654\n1              hpk      343.667578  90.624364  -11.018456\n2              ksi      319.406152  50.799687  -17.300163\n3            slurm      386.223437  59.850493    0.000000",
      "text/html": "<div>\n<style scoped>\n    .dataframe tbody tr th:only-of-type {\n        vertical-align: middle;\n    }\n\n    .dataframe tbody tr th {\n        vertical-align: top;\n    }\n\n    .dataframe thead th {\n        text-align: right;\n    }\n</style>\n<table border=\"1\" class=\"dataframe\">\n  <thead>\n    <tr style=\"text-align: right;\">\n      <th></th>\n      <th>project</th>\n      <th>readthroughput</th>\n      <th>std</th>\n      <th>difference</th>\n    </tr>\n  </thead>\n  <tbody>\n    <tr>\n      <th>0</th>\n      <td>bridge-operator</td>\n      <td>384.722363</td>\n      <td>32.114950</td>\n      <td>-0.388654</td>\n    </tr>\n    <tr>\n      <th>1</th>\n      <td>hpk</td>\n      <td>343.667578</td>\n      <td>90.624364</td>\n      <td>-11.018456</td>\n    </tr>\n    <tr>\n      <th>2</th>\n      <td>ksi</td>\n      <td>319.406152</td>\n      <td>50.799687</td>\n      <td>-17.300163</td>\n    </tr>\n    <tr>\n      <th>3</th>\n      <td>slurm</td>\n      <td>386.223437</td>\n      <td>59.850493</td>\n      <td>0.000000</td>\n    </tr>\n  </tbody>\n</table>\n</div>"
     },
     "execution_count": 74,
     "metadata": {},
     "output_type": "execute_result"
    }
   ],
   "source": [
    "df = read_bench_csv(\"fio-diskseq\")\n",
    "df[\"readthroughput\"] = df[\"readthroughput\"] / 1024  # KiB to MiB\n",
    "df[\"writethroughput\"] = df[\"writethroughput\"] / 1024  # KiB to MiB\n",
    "analyze(df, \"readthroughput\")"
   ],
   "metadata": {
    "collapsed": false,
    "ExecuteTime": {
     "end_time": "2023-12-02T15:27:46.243264627Z",
     "start_time": "2023-12-02T15:27:46.179890224Z"
    }
   },
   "id": "7fdca9ad6fbc710f"
  },
  {
   "cell_type": "code",
   "execution_count": 75,
   "outputs": [
    {
     "name": "stdout",
     "output_type": "stream",
     "text": [
      "Detected benchmark files: ['data/fio-diskseq/slurm/002.csv', 'data/fio-diskseq/bridge-operator/001.csv', 'data/fio-diskseq/hpk/003.csv', 'data/fio-diskseq/ksi/000.csv']\n"
     ]
    },
    {
     "data": {
      "text/plain": "           project  writethroughput       std  difference\n0  bridge-operator        89.331250  5.207441    4.210802\n1              hpk        81.642578  3.866118   -4.758541\n2              ksi        74.985449  3.381752  -12.524522\n3            slurm        85.721680  8.768964    0.000000",
      "text/html": "<div>\n<style scoped>\n    .dataframe tbody tr th:only-of-type {\n        vertical-align: middle;\n    }\n\n    .dataframe tbody tr th {\n        vertical-align: top;\n    }\n\n    .dataframe thead th {\n        text-align: right;\n    }\n</style>\n<table border=\"1\" class=\"dataframe\">\n  <thead>\n    <tr style=\"text-align: right;\">\n      <th></th>\n      <th>project</th>\n      <th>writethroughput</th>\n      <th>std</th>\n      <th>difference</th>\n    </tr>\n  </thead>\n  <tbody>\n    <tr>\n      <th>0</th>\n      <td>bridge-operator</td>\n      <td>89.331250</td>\n      <td>5.207441</td>\n      <td>4.210802</td>\n    </tr>\n    <tr>\n      <th>1</th>\n      <td>hpk</td>\n      <td>81.642578</td>\n      <td>3.866118</td>\n      <td>-4.758541</td>\n    </tr>\n    <tr>\n      <th>2</th>\n      <td>ksi</td>\n      <td>74.985449</td>\n      <td>3.381752</td>\n      <td>-12.524522</td>\n    </tr>\n    <tr>\n      <th>3</th>\n      <td>slurm</td>\n      <td>85.721680</td>\n      <td>8.768964</td>\n      <td>0.000000</td>\n    </tr>\n  </tbody>\n</table>\n</div>"
     },
     "execution_count": 75,
     "metadata": {},
     "output_type": "execute_result"
    }
   ],
   "source": [
    "df = read_bench_csv(\"fio-diskseq\")\n",
    "df[\"readthroughput\"] = df[\"readthroughput\"] / 1024  # KiB to MiB\n",
    "df[\"writethroughput\"] = df[\"writethroughput\"] / 1024  # KiB to MiB\n",
    "analyze(df, \"writethroughput\")"
   ],
   "metadata": {
    "collapsed": false,
    "ExecuteTime": {
     "end_time": "2023-12-02T15:27:46.401576632Z",
     "start_time": "2023-12-02T15:27:46.180288529Z"
    }
   },
   "id": "d2196dd42e53df78"
  },
  {
   "cell_type": "code",
   "execution_count": 76,
   "outputs": [
    {
     "name": "stdout",
     "output_type": "stream",
     "text": [
      "Detected benchmark files: ['data/fio-diskrnd/slurm/001.csv', 'data/fio-diskrnd/bridge-operator/001.csv', 'data/fio-diskrnd/hpk/001.csv', 'data/fio-diskrnd/ksi/000.csv']\n"
     ]
    },
    {
     "data": {
      "text/plain": "           project  readthroughput        std  difference\n0  bridge-operator      214.809473  29.693126    0.961768\n1              hpk      206.056348  36.073874   -3.152254\n2              ksi      199.788867  28.875146   -6.098008\n3            slurm      212.763184  29.506144    0.000000",
      "text/html": "<div>\n<style scoped>\n    .dataframe tbody tr th:only-of-type {\n        vertical-align: middle;\n    }\n\n    .dataframe tbody tr th {\n        vertical-align: top;\n    }\n\n    .dataframe thead th {\n        text-align: right;\n    }\n</style>\n<table border=\"1\" class=\"dataframe\">\n  <thead>\n    <tr style=\"text-align: right;\">\n      <th></th>\n      <th>project</th>\n      <th>readthroughput</th>\n      <th>std</th>\n      <th>difference</th>\n    </tr>\n  </thead>\n  <tbody>\n    <tr>\n      <th>0</th>\n      <td>bridge-operator</td>\n      <td>214.809473</td>\n      <td>29.693126</td>\n      <td>0.961768</td>\n    </tr>\n    <tr>\n      <th>1</th>\n      <td>hpk</td>\n      <td>206.056348</td>\n      <td>36.073874</td>\n      <td>-3.152254</td>\n    </tr>\n    <tr>\n      <th>2</th>\n      <td>ksi</td>\n      <td>199.788867</td>\n      <td>28.875146</td>\n      <td>-6.098008</td>\n    </tr>\n    <tr>\n      <th>3</th>\n      <td>slurm</td>\n      <td>212.763184</td>\n      <td>29.506144</td>\n      <td>0.000000</td>\n    </tr>\n  </tbody>\n</table>\n</div>"
     },
     "execution_count": 76,
     "metadata": {},
     "output_type": "execute_result"
    }
   ],
   "source": [
    "df = read_bench_csv(\"fio-diskrnd\")\n",
    "df[\"readthroughput\"] = df[\"readthroughput\"] / 1024  # KiB to MiB\n",
    "df[\"writethroughput\"] = df[\"writethroughput\"] / 1024  # KiB to MiB\n",
    "analyze(df, \"readthroughput\")"
   ],
   "metadata": {
    "collapsed": false,
    "ExecuteTime": {
     "end_time": "2023-12-02T15:27:46.402866602Z",
     "start_time": "2023-12-02T15:27:46.227735749Z"
    }
   },
   "id": "64c8037ce0d43ecb"
  },
  {
   "cell_type": "code",
   "execution_count": 77,
   "outputs": [
    {
     "name": "stdout",
     "output_type": "stream",
     "text": [
      "Detected benchmark files: ['data/fio-diskrnd/slurm/001.csv', 'data/fio-diskrnd/bridge-operator/001.csv', 'data/fio-diskrnd/hpk/001.csv', 'data/fio-diskrnd/ksi/000.csv']\n"
     ]
    },
    {
     "data": {
      "text/plain": "           project  writethroughput       std  difference\n0  bridge-operator        89.053613  4.073581    4.207929\n1              hpk        80.437988  8.946701   -5.873823\n2              ksi        77.759668  3.786730   -9.007915\n3            slurm        85.457617  7.817036    0.000000",
      "text/html": "<div>\n<style scoped>\n    .dataframe tbody tr th:only-of-type {\n        vertical-align: middle;\n    }\n\n    .dataframe tbody tr th {\n        vertical-align: top;\n    }\n\n    .dataframe thead th {\n        text-align: right;\n    }\n</style>\n<table border=\"1\" class=\"dataframe\">\n  <thead>\n    <tr style=\"text-align: right;\">\n      <th></th>\n      <th>project</th>\n      <th>writethroughput</th>\n      <th>std</th>\n      <th>difference</th>\n    </tr>\n  </thead>\n  <tbody>\n    <tr>\n      <th>0</th>\n      <td>bridge-operator</td>\n      <td>89.053613</td>\n      <td>4.073581</td>\n      <td>4.207929</td>\n    </tr>\n    <tr>\n      <th>1</th>\n      <td>hpk</td>\n      <td>80.437988</td>\n      <td>8.946701</td>\n      <td>-5.873823</td>\n    </tr>\n    <tr>\n      <th>2</th>\n      <td>ksi</td>\n      <td>77.759668</td>\n      <td>3.786730</td>\n      <td>-9.007915</td>\n    </tr>\n    <tr>\n      <th>3</th>\n      <td>slurm</td>\n      <td>85.457617</td>\n      <td>7.817036</td>\n      <td>0.000000</td>\n    </tr>\n  </tbody>\n</table>\n</div>"
     },
     "execution_count": 77,
     "metadata": {},
     "output_type": "execute_result"
    }
   ],
   "source": [
    "df = read_bench_csv(\"fio-diskrnd\")\n",
    "df[\"readthroughput\"] = df[\"readthroughput\"] / 1024  # KiB to MiB\n",
    "df[\"writethroughput\"] = df[\"writethroughput\"] / 1024  # KiB to MiB\n",
    "analyze(df, \"writethroughput\")"
   ],
   "metadata": {
    "collapsed": false,
    "ExecuteTime": {
     "end_time": "2023-12-02T15:27:46.431362088Z",
     "start_time": "2023-12-02T15:27:46.228033064Z"
    }
   },
   "id": "6395502f549856fc"
  },
  {
   "cell_type": "code",
   "execution_count": 78,
   "outputs": [
    {
     "name": "stdout",
     "output_type": "stream",
     "text": [
      "Detected benchmark files: ['data/netperf-latency-tcp/slurm/000.csv', 'data/netperf-latency-tcp/bridge-operator/000.csv', 'data/netperf-latency-tcp/hpk/000.csv', 'data/netperf-latency-tcp/ksi/000.csv']\n"
     ]
    },
    {
     "data": {
      "text/plain": "           project  mean_latency       std  difference\n0  bridge-operator        58.144  0.312061    0.609081\n1              hpk        58.570  0.230266    1.346207\n2              ksi        81.851  2.814121   41.630329\n3            slurm        57.792  0.106228    0.000000",
      "text/html": "<div>\n<style scoped>\n    .dataframe tbody tr th:only-of-type {\n        vertical-align: middle;\n    }\n\n    .dataframe tbody tr th {\n        vertical-align: top;\n    }\n\n    .dataframe thead th {\n        text-align: right;\n    }\n</style>\n<table border=\"1\" class=\"dataframe\">\n  <thead>\n    <tr style=\"text-align: right;\">\n      <th></th>\n      <th>project</th>\n      <th>mean_latency</th>\n      <th>std</th>\n      <th>difference</th>\n    </tr>\n  </thead>\n  <tbody>\n    <tr>\n      <th>0</th>\n      <td>bridge-operator</td>\n      <td>58.144</td>\n      <td>0.312061</td>\n      <td>0.609081</td>\n    </tr>\n    <tr>\n      <th>1</th>\n      <td>hpk</td>\n      <td>58.570</td>\n      <td>0.230266</td>\n      <td>1.346207</td>\n    </tr>\n    <tr>\n      <th>2</th>\n      <td>ksi</td>\n      <td>81.851</td>\n      <td>2.814121</td>\n      <td>41.630329</td>\n    </tr>\n    <tr>\n      <th>3</th>\n      <td>slurm</td>\n      <td>57.792</td>\n      <td>0.106228</td>\n      <td>0.000000</td>\n    </tr>\n  </tbody>\n</table>\n</div>"
     },
     "execution_count": 78,
     "metadata": {},
     "output_type": "execute_result"
    }
   ],
   "source": [
    "df = read_bench_csv(\"netperf-latency-tcp\")\n",
    "analyze(df, \"mean_latency\")"
   ],
   "metadata": {
    "collapsed": false,
    "ExecuteTime": {
     "end_time": "2023-12-02T15:27:46.432485976Z",
     "start_time": "2023-12-02T15:27:46.271907269Z"
    }
   },
   "id": "526125217a362d48"
  },
  {
   "cell_type": "code",
   "execution_count": 79,
   "outputs": [
    {
     "name": "stdout",
     "output_type": "stream",
     "text": [
      "Detected benchmark files: ['data/iperf3-bandwidth/slurm/001.csv', 'data/iperf3-bandwidth/bridge-operator/000.csv', 'data/iperf3-bandwidth/hpk/001.csv', 'data/iperf3-bandwidth/ksi/000.csv']\n"
     ]
    },
    {
     "data": {
      "text/plain": "           project        score        std  difference\n0  bridge-operator  9413.718226   0.856264    0.000092\n1              hpk  7386.499128  53.765454  -21.534661\n2              ksi   612.821227  37.151688  -93.490120\n3            slurm  9413.709552   1.291106    0.000000",
      "text/html": "<div>\n<style scoped>\n    .dataframe tbody tr th:only-of-type {\n        vertical-align: middle;\n    }\n\n    .dataframe tbody tr th {\n        vertical-align: top;\n    }\n\n    .dataframe thead th {\n        text-align: right;\n    }\n</style>\n<table border=\"1\" class=\"dataframe\">\n  <thead>\n    <tr style=\"text-align: right;\">\n      <th></th>\n      <th>project</th>\n      <th>score</th>\n      <th>std</th>\n      <th>difference</th>\n    </tr>\n  </thead>\n  <tbody>\n    <tr>\n      <th>0</th>\n      <td>bridge-operator</td>\n      <td>9413.718226</td>\n      <td>0.856264</td>\n      <td>0.000092</td>\n    </tr>\n    <tr>\n      <th>1</th>\n      <td>hpk</td>\n      <td>7386.499128</td>\n      <td>53.765454</td>\n      <td>-21.534661</td>\n    </tr>\n    <tr>\n      <th>2</th>\n      <td>ksi</td>\n      <td>612.821227</td>\n      <td>37.151688</td>\n      <td>-93.490120</td>\n    </tr>\n    <tr>\n      <th>3</th>\n      <td>slurm</td>\n      <td>9413.709552</td>\n      <td>1.291106</td>\n      <td>0.000000</td>\n    </tr>\n  </tbody>\n</table>\n</div>"
     },
     "execution_count": 79,
     "metadata": {},
     "output_type": "execute_result"
    }
   ],
   "source": [
    "df = read_bench_csv(\"iperf3-bandwidth\")\n",
    "df['score'] = df['scoreBitsPerSec'] / 1000000  # to MBit/s\n",
    "analyze(df, \"score\")"
   ],
   "metadata": {
    "collapsed": false,
    "ExecuteTime": {
     "end_time": "2023-12-02T15:27:46.433786981Z",
     "start_time": "2023-12-02T15:27:46.272354114Z"
    }
   },
   "id": "6ffb1181d33dc62f"
  },
  {
   "cell_type": "code",
   "execution_count": 79,
   "outputs": [],
   "source": [],
   "metadata": {
    "collapsed": false,
    "ExecuteTime": {
     "end_time": "2023-12-02T15:27:46.583492295Z",
     "start_time": "2023-12-02T15:27:46.288971749Z"
    }
   },
   "id": "412fc056f758ec9c"
  }
 ],
 "metadata": {
  "kernelspec": {
   "display_name": "Python 3",
   "language": "python",
   "name": "python3"
  },
  "language_info": {
   "codemirror_mode": {
    "name": "ipython",
    "version": 2
   },
   "file_extension": ".py",
   "mimetype": "text/x-python",
   "name": "python",
   "nbconvert_exporter": "python",
   "pygments_lexer": "ipython2",
   "version": "2.7.6"
  }
 },
 "nbformat": 4,
 "nbformat_minor": 5
}
